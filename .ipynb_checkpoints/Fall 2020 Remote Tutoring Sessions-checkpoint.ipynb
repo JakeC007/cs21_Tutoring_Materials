{
 "cells": [
  {
   "cell_type": "markdown",
   "metadata": {
    "deletable": true,
    "editable": true
   },
   "source": [
    "# Fall 2020 Remote Tutoring Sessions"
   ]
  },
  {
   "cell_type": "markdown",
   "metadata": {
    "deletable": true,
    "editable": true
   },
   "source": [
    "## Session 2 (11/12/20)\n",
    "### Bubble Sort\n",
    "- very slow $O(N^{2})$\n",
    "- very easy to understand\n",
    "\n",
    "ls = [5 1 4 2 8]\n",
    "\n",
    "Pass 1:\n",
    "\n",
    "(5 1 4 2 ) -> (1 5 4 2 8)\n",
    "\n",
    "(1 5 4 2 8) -> (1 4 5 2 8) \n",
    "\n",
    "(1 4 5 2 8) -> (1 4 2 5 8)\n",
    "\n",
    "(1 4 2 5 8) -> (1 4 2 5 8) # no swaps needed because 5<8\n",
    "\n",
    "Pass 2:\n",
    "(1 4 2 5 8) -> (1 4 2 5 8) # no swap needed 1<4\n",
    "\n",
    "(1 4 2 5 8) -> (1 2 4 5 8) \n",
    "\n",
    "(1 2 4 5 8) -> (1 2 4 5 8) # no swap needed 4<5\n",
    "\n",
    "(1 2 4 5 8) -> (1 2 4 5 8) # no swap needed 5<8\n",
    "\n",
    "Pass 3: clean pass\n",
    "\n",
    "(1 2 4 5 8) -> (1 2 4 5 8) # no swap, 1<2\n",
    "\n",
    "(1 2 4 5 8) -> (1 2 4 5 8) # no swap, 2<4\n",
    "\n",
    "(1 2 4 5 8) -> (1 2 4 5 8) # no swap, 4<5\n",
    "\n",
    "(1 2 4 5 8) -> (1 2 4 5 8) # no swap, 5<8\n",
    "\n",
    "On pass 3 we did not swap anything. Thus, the computer knows that the list is sorted and we can return\n",
    "\n",
    "### Selection Sort\n",
    "- much quicker than bubble sort; the runtime is O(N^{2})\n",
    "- it sorts in place (meaning no new list is created)\n",
    "- it splits up the list into sorted and unsorted sections \n",
    "\n",
    "- Algorithm \n",
    "    - starts with first element, W, of the unsorted section of the list\n",
    "    - traverses the rest of the unsorted section of the list looking for an element less than W\n",
    "    - swaps W and the element that is less than W\n",
    "    - stops when it has done n-1 steps"
   ]
  },
  {
   "cell_type": "code",
   "execution_count": 3,
   "metadata": {
    "collapsed": false,
    "deletable": true,
    "editable": true
   },
   "outputs": [
    {
     "name": "stdout",
     "output_type": "stream",
     "text": [
      "CAT\n",
      "nvl\n",
      "ANOYING TTEXT\n",
      "anoying ttext\n"
     ]
    }
   ],
   "source": [
    "# Some common str methods: upper and lower\n",
    "s = \"cat\"\n",
    "y = \"WNBA\"\n",
    "x = \"aNoYiNg teXt\"\n",
    "print(s.upper())\n",
    "print(y.lower())\n",
    "print(x.upper())\n",
    "print(x.lower())"
   ]
  },
  {
   "cell_type": "code",
   "execution_count": 12,
   "metadata": {
    "collapsed": false,
    "deletable": true,
    "editable": true
   },
   "outputs": [
    {
     "name": "stdout",
     "output_type": "stream",
     "text": [
      "My favorite fruit is banana\n",
      "strawberry\n"
     ]
    }
   ],
   "source": [
    "# Some common str methods: split and strip\n",
    "s = \"banana  \"\n",
    "w = s.strip()\n",
    "print(\"My favorite fruit is %s\" % w)\n",
    "\n",
    "s = \"strawberry|mango|apple\"\n",
    "x = s.split(\"|\") # recall that split returns a list of split elements\n",
    "print(x[0])"
   ]
  },
  {
   "cell_type": "code",
   "execution_count": 21,
   "metadata": {
    "collapsed": false,
    "deletable": true,
    "editable": true
   },
   "outputs": [
    {
     "name": "stdout",
     "output_type": "stream",
     "text": [
      "b\n",
      "b\n"
     ]
    }
   ],
   "source": [
    "#indexing into lists of lists\n",
    "ls = [\"bat\", \"range\", \"banana\"]\n",
    "print(ls[0][0])\n",
    "\n",
    "ls2 = [[1,2,3,4], [\"bat\", \"range\", \"banana\"]]\n",
    "print(ls2[1][0][0])"
   ]
  },
  {
   "cell_type": "markdown",
   "metadata": {
    "deletable": true,
    "editable": true
   },
   "source": [
    "### Quiz 4 Practice"
   ]
  },
  {
   "cell_type": "code",
   "execution_count": null,
   "metadata": {
    "collapsed": true,
    "deletable": true,
    "editable": true
   },
   "outputs": [],
   "source": [
    "def get_numbers(n):\n",
    "    \"\"\"\n",
    "    Purpose: Read n numbers from the user and return them as a list\n",
    "    Parameters: n -- the number of values to read from the user (integer)\n",
    "    Return: a list of the numbers entered by the user\n",
    "    \"\"\"\n",
    "    value_list = []\n",
    "    \n",
    "    for i in range(n):\n",
    "        value = int(input(\"Enter a number: \"))\n",
    "        value_list.append(value)\n",
    "    return value_list\n",
    "\"\"\"\n",
    "The issues in this function were\n",
    "    - indentation errors in lines 3&4 b/c they should have been in the for loop\n",
    "    - the intl. of the accumulator needs to be outside the for loop or it won't hold on to anything \n",
    "\"\"\""
   ]
  },
  {
   "cell_type": "markdown",
   "metadata": {
    "deletable": true,
    "editable": true
   },
   "source": [
    "S = \"ab-cd-ef\"\n",
    "\n",
    "L = [\"This is\", \"a list with\", \"some words\", \"inside of it\"]\n",
    "\n",
    "data = [['PA', 20], ['NJ', 14], ['OH', 18], ['WI', 10]]\n",
    "\n",
    "\n",
    "                                 VALUE            TYPE\n",
    "                                 -----            ----\n",
    "    len(L)                        4                int\n",
    "    len(L[0])                     \"This is\"        str\n",
    "    len(S)                        8                int\n",
    "    \"some\" in L[2]                 True            bool\n",
    "    \"cd\" in S                     True             bool\n",
    "    L[1][0]                       a                str\n",
    "    S.upper()\n",
    "    S.split('-')\n",
    "    S < \"ZEBRA\"\n",
    "    data[0]\n",
    "    data[0][1]\n",
    "    data[2][0] < data[3][0]"
   ]
  },
  {
   "cell_type": "code",
   "execution_count": 1,
   "metadata": {
    "collapsed": false,
    "deletable": true,
    "editable": true
   },
   "outputs": [
    {
     "data": {
      "text/plain": [
       "True"
      ]
     },
     "execution_count": 1,
     "metadata": {},
     "output_type": "execute_result"
    }
   ],
   "source": [
    "S = \"ab-cd-ef\"\n",
    "L = [\"This is\", \"a list with\", \"some words\", \"inside of it\"]\n",
    "data = [['PA', 20], ['NJ', 14], ['OH', 18], ['WI', 10]]\n",
    "\n",
    "#                                  VALUE            TYPE\n",
    "#                                  -----            ----\n",
    "# len(L)\n",
    "# len(L[0])\n",
    "# len(S)\n",
    "# \"some\" in L[2]\n",
    "# \"cd\" in S\n",
    "#     L[1][0]\n",
    "#     S.upper()\n",
    "#     S.split('-')\n",
    "S > \"ZEBRA\"\n",
    "#     data[0]\n",
    "#     data[0][1]\n",
    "#     data[2][0] < data[3][0]"
   ]
  },
  {
   "cell_type": "markdown",
   "metadata": {
    "collapsed": true,
    "deletable": true,
    "editable": true
   },
   "source": [
    "# Session 3"
   ]
  },
  {
   "cell_type": "markdown",
   "metadata": {
    "deletable": true,
    "editable": true
   },
   "source": [
    "## Review of Quiz 5 Study Guide "
   ]
  },
  {
   "cell_type": "markdown",
   "metadata": {
    "deletable": true,
    "editable": true
   },
   "source": [
    "### Analysis of algorithms/big-O notation\n",
    "\n",
    "#### Quick Overview\n",
    "- O(1) is constant time\n",
    "- O(logN) is logarithmic (think divide by 2 at each step)\n",
    "- O(N) is linear \n",
    "- O(N2) is quadratic\n",
    "\n",
    "#### Ranked Runtime\n",
    "$O(1) < O(log_{n}) < O(N) < O(N^{2})$\n",
    "\n",
    "![Visual of Runtime](https://qph.fs.quoracdn.net/main-qimg-a6d2a6f8024edb0653563aa74983622c.webp)"
   ]
  },
  {
   "cell_type": "markdown",
   "metadata": {
    "deletable": true,
    "editable": true
   },
   "source": [
    "### Assesing how long two blocks of code is\n",
    "N = int(input(\"please enter a number: \")) # <-- this is O(1)\n",
    "\n",
    "```\n",
    "(1) for i in range(N): # <-- this is O(n)\n",
    "        print(i) <-- this is O(1)\n",
    "```\n",
    " $O(n)*O(1) = O(N)$\n",
    "\n",
    "```\n",
    "(2) for i in range(N): # <-- this is O(n) \n",
    "        for j in range(N): # <-- this is O(n)\n",
    "            print(i,j) # # <-- this is O(1)\n",
    "```\n",
    "\n",
    " $O(n)*O(n)*O(1) = O(N^{2})$\n",
    "``` \n",
    "(3) for i in range(N): # <-- this is O(n)\n",
    "        for j in range(N): # <-- this is O(n)\n",
    "            linearSearch(N) # <-- this is O(n)\n",
    "            linearSearch(N)\n",
    "```\n",
    "Which is larger?\n",
    "\n",
    "```\n",
    "(4) for i in range(N): # <-- this is O(n)\n",
    "        for j in range(N): # <-- this is O(n)\n",
    "            bubbleStort(N) # <-- this is O(n^2)\n",
    "```\n",
    "\n",
    "(3) takes $O(n)*O(n)*O(n) = O(N^{3})$ \n",
    "\n",
    "(4) takes $O(n)*O(n)*O(n^{2}) = O(N^{4})$\n",
    "\n",
    "So (4) is $n$ times larger than (3)\n",
    " "
   ]
  },
  {
   "cell_type": "markdown",
   "metadata": {
    "deletable": true,
    "editable": true
   },
   "source": [
    "## Practice problems"
   ]
  },
  {
   "cell_type": "markdown",
   "metadata": {
    "deletable": true,
    "editable": true
   },
   "source": [
    "Q1: What is the output of the folowing code?\n",
    "\n",
    "```python\n",
    "for i in range(2):\n",
    "    for j in range (3):\n",
    "        print(\"i:%d j:%d\" % (i,j))\n",
    "```\n",
    "        --------------------------\n",
    "A1: \n",
    "\n",
    "    s1: i:0 j:0\n",
    "    \n",
    "    s2: i:0 j:1\n",
    "    \n",
    "    s3: i:0 j:2\n",
    "    \n",
    "    s4: i:1 j:0\n",
    "    \n",
    "    s5: i:1 j:1\n",
    "    \n",
    "    s6: i1: j2\n",
    "    \n",
    "Q9:\n",
    "```python\n",
    "while N > 1:\n",
    "    print(N)\n",
    "    N = N//2\n",
    "```\n",
    "-----\n",
    "A9:\n",
    "\n",
    "Lets look at the steps.\n",
    "   s1: n = 10\n",
    "   \n",
    "   s2: n = 5\n",
    "   \n",
    "   s3: n = 2\n",
    "   \n",
    "   s4: n = 1\n",
    "  \n",
    "  O(N) -> 10\n",
    "  \n",
    "  so it must be $O(log_{n})$!\n",
    "    "
   ]
  },
  {
   "cell_type": "markdown",
   "metadata": {},
   "source": [
    "# Session 4\n",
    "## Review of Quiz 5 Study Guide "
   ]
  },
  {
   "cell_type": "markdown",
   "metadata": {},
   "source": [
    "## But first, a quick aside on swapping\n",
    "Lets say:\n",
    "```python\n",
    "a = \"cats\"\n",
    "b = \"dogs\n",
    "```\n",
    "\n",
    "Do not do:\n",
    "```\n",
    "a = b\n",
    "b = a\n",
    "```\n",
    "What you should do is:\n",
    "```python\n",
    "temp = a \n",
    "a = b\n",
    "b = temp\n",
    "```\n",
    "which is the same as: \n",
    "```python\n",
    "a, b = b, a\n",
    "```\n"
   ]
  },
  {
   "cell_type": "markdown",
   "metadata": {},
   "source": [
    "## Lets Chat about recursion \n",
    "\n",
    "Big idea\n",
    "\n",
    "* A function can call itself within itself \n",
    "\n",
    "Taxonomy of a recusive function\n",
    "\n",
    "* It must always have a base case\n",
    "    * A base case is simply the state when the function should stop calling itself and return \n",
    "   * Ex (1)\n",
    "* it must always call itself \n",
    "* when it hits the base case, each instance of the function starting with the last one will return into the function that called it (think nesting dolls) \n",
    "   \n",
    "   \n",
    "Ex 1:\n",
    "lst =  [5,4,3,2,1]\n",
    "countdown(lst)\n",
    "```python\n",
    "def countdown(lst):\n",
    "    if len(lst) <=0:\n",
    "        return None\n",
    "    else:\n",
    "        print(list[0])\n",
    "        countdown(lst[1:])\n",
    "```\n",
    "s1: 5\n",
    "\n",
    "s2: 4\n",
    "\n",
    "s3: 3\n",
    "\n",
    "s4: 2\n",
    "\n",
    "s5: 1\n",
    "\n",
    "### Ex 2:\n",
    "```python\n",
    "\n",
    "def mystery(n):\n",
    "    if n == 1:\n",
    "        return 0\n",
    "    else:\n",
    "        r = 1 + mystery(n//2) \n",
    "        return r\n",
    "\n",
    "def main():\n",
    "    result = mystery(11)\n",
    "    print(\"Result: %d\" % (result))\n",
    "\n",
    "main()\n",
    "```  \n",
    "\n",
    "Our base case is if n == 1\n",
    "Our stack frame is:\n",
    "\n",
    "+-+-+-+-+-+-+  \n",
    "$m_{4}$       \n",
    "\n",
    "n = 1      \n",
    "\n",
    "r = 0\n",
    "\n",
    "+-+-+-+-+-+-+ \n",
    "\n",
    "$m_{3}$\n",
    "\n",
    "n = 2\n",
    "\n",
    "r = 1 + $?_{m_{4}} \\rightarrow1+0 = 1$\n",
    "\n",
    "+-+-+-+-+-+-+  \n",
    "\n",
    "$m_{2}$\n",
    "\n",
    "n = 5\n",
    "\n",
    "r = 1 + $?_{m_{3}} \\rightarrow 1+1 = 2$\n",
    "\n",
    "+-+-+-+-+-+-+ \n",
    "\n",
    "$m_{1}$\n",
    "\n",
    "n = 11\n",
    "\n",
    "r = 1 + $?_{m_{2}} \\rightarrow 1 + 2 = 3$\n",
    "____________________\n",
    "\n",
    "Thus, the function returns 3\n"
   ]
  }
 ],
 "metadata": {
  "kernelspec": {
   "display_name": "Python 3",
   "language": "python",
   "name": "python3"
  },
  "language_info": {
   "codemirror_mode": {
    "name": "ipython",
    "version": 3
   },
   "file_extension": ".py",
   "mimetype": "text/x-python",
   "name": "python",
   "nbconvert_exporter": "python",
   "pygments_lexer": "ipython3",
   "version": "3.5.2"
  }
 },
 "nbformat": 4,
 "nbformat_minor": 2
}
