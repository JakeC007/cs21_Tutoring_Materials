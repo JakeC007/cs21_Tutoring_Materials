{
 "cells": [
  {
   "cell_type": "markdown",
   "metadata": {},
   "source": [
    "# CS 21 Practice Quiz 6 2019 Answer Key"
   ]
  },
  {
   "cell_type": "markdown",
   "metadata": {},
   "source": [
    "# # Question 1"
   ]
  },
  {
   "cell_type": "code",
   "execution_count": null,
   "metadata": {},
   "outputs": [],
   "source": [
    "for i in range(N):\n",
    "    for j in range(N):\n",
    "        print(i, j)"
   ]
  },
  {
   "cell_type": "markdown",
   "metadata": {},
   "source": [
    "Answer $O(n^{2})$"
   ]
  },
  {
   "cell_type": "code",
   "execution_count": null,
   "metadata": {},
   "outputs": [],
   "source": [
    "while N > 1:\n",
    "      print(N)\n",
    "      N = N/2"
   ]
  },
  {
   "cell_type": "markdown",
   "metadata": {},
   "source": [
    "Answer $O(log_{2}(n))$"
   ]
  },
  {
   "cell_type": "code",
   "execution_count": null,
   "metadata": {},
   "outputs": [],
   "source": [
    "for i in range(N):\n",
    "    for j in range(10):\n",
    "        print(i, j)"
   ]
  },
  {
   "cell_type": "markdown",
   "metadata": {},
   "source": [
    "Answer $O(n)$"
   ]
  },
  {
   "cell_type": "code",
   "execution_count": null,
   "metadata": {},
   "outputs": [],
   "source": [
    "def oneLoop(L):\n",
    "   for j in range(len(L)-1):\n",
    "      if L[j] > L[j+1]:\n",
    "         tmp = L[j+1]\n",
    "         L[j+1] = L[j]\n",
    "         L[j] = tmp"
   ]
  },
  {
   "cell_type": "markdown",
   "metadata": {},
   "source": [
    "Answer $O(n)$ << Check?"
   ]
  },
  {
   "cell_type": "markdown",
   "metadata": {},
   "source": [
    "# # Question 2"
   ]
  },
  {
   "cell_type": "markdown",
   "metadata": {},
   "source": [
    "<p>Show how the following list would be changed after selection sort does its first 3 swaps:<br />[15, 99, 4, 30, 3, 82, 7, 42]</p>"
   ]
  },
  {
   "cell_type": "code",
   "execution_count": null,
   "metadata": {},
   "outputs": [],
   "source": [
    "ALG:\n",
    "repeat (numOfElements - 1) times\n",
    "\n",
    "  set the first unsorted element as the minimum\n",
    "\n",
    "  for each of the unsorted elements\n",
    "\n",
    "    if element < currentMinimum\n",
    "\n",
    "      set element as new minimum\n",
    "\n",
    "  swap minimum with first unsorted position"
   ]
  },
  {
   "cell_type": "markdown",
   "metadata": {},
   "source": [
    "<p>Step 1: [3, 99, 4, 30, 15, 82, 7, 42]<br /><br />Step 2: [3, 4, 99, 30, 15, 82, 7, 42]<br /><br />Step 3: [3, 4, 7, 30, 15, 82, 99, 42]</p>"
   ]
  },
  {
   "cell_type": "markdown",
   "metadata": {},
   "source": [
    "# # Question 3"
   ]
  },
  {
   "cell_type": "markdown",
   "metadata": {},
   "source": [
    "<p>Show how the following list would be changed after bubble sort does one iteration of the outer loop.<br /><br />[17, 4, 19, 3, 11, 8]</p>"
   ]
  },
  {
   "cell_type": "code",
   "execution_count": null,
   "metadata": {},
   "outputs": [],
   "source": [
    "ALG:\n",
    "do\n",
    "\n",
    "  swapped = false\n",
    "\n",
    "  for i = 1 to indexOfLastUnsortedElement-1\n",
    "\n",
    "    if leftElement > rightElement\n",
    "\n",
    "      swap(leftElement, rightElement)\n",
    "\n",
    "      swapped = true\n",
    "\n",
    "while swapped"
   ]
  },
  {
   "cell_type": "markdown",
   "metadata": {},
   "source": [
    "<p>One iteration: [4, 17, 3, 11, 8, 19]&nbsp;</p>"
   ]
  },
  {
   "cell_type": "markdown",
   "metadata": {},
   "source": [
    "# # Question 4"
   ]
  },
  {
   "cell_type": "markdown",
   "metadata": {},
   "source": [
    "<p>Which algorithm requires time directly proportional to the size of the input list?</p>\n",
    "<ul>\n",
    "<li>linear search</li>\n",
    "<li>binary search</li>\n",
    "<li>bubble sort</li>\n",
    "<li>selection sort</li>\n",
    "</ul>"
   ]
  },
  {
   "cell_type": "markdown",
   "metadata": {},
   "source": [
    "<p>Answer: Linear Search</p>"
   ]
  },
  {
   "cell_type": "markdown",
   "metadata": {},
   "source": [
    "# # Question 5"
   ]
  },
  {
   "cell_type": "markdown",
   "metadata": {},
   "source": [
    "Write a recursive function longestInList(L) that returns the longest string in L, a list of strings. You can assume that L has at least one string."
   ]
  },
  {
   "cell_type": "code",
   "execution_count": null,
   "metadata": {},
   "outputs": [],
   "source": [
    "def longestInLst(L):\n",
    "    if len(L) == 1: # base case\n",
    "        return L[0]\n",
    "    else:\n",
    "        thisWord = L[0]\n",
    "        otherWrd = longestInLst(L[1:])\n",
    "        if len(thisWord) > len(otherWrd):\n",
    "            return thisWrd\n",
    "        else:\n",
    "            otherWrd"
   ]
  },
  {
   "cell_type": "markdown",
   "metadata": {},
   "source": [
    "<p>Then, draw the stack as it would look at its largest (i.e, the deepest part of the recursion when it hits a base case), when the function is called on the list&nbsp; ['awesome', 'recursive', 'code']. pdf of solution (https://www.cs.swarthmore.edu/courses/CS21Labs/s19/quizzes/quiz6stack.pdf)</p>"
   ]
  },
  {
   "cell_type": "markdown",
   "metadata": {},
   "source": [
    "# # Question 6"
   ]
  },
  {
   "cell_type": "markdown",
   "metadata": {},
   "source": [
    "<p>Write a recursive function countdown(n) which simulates a countdown to a rocket launch. If you call blastoff(4) you should see the following output:</p>"
   ]
  },
  {
   "cell_type": "code",
   "execution_count": null,
   "metadata": {},
   "outputs": [],
   "source": [
    "def blastOff(n):\n",
    "    if n == 0:\n",
    "        print(\"Blastoff\")\n",
    "    else:\n",
    "        print(n)\n",
    "        blastOff(n-1)\n",
    "\n",
    "def main():\n",
    "  blastOff(4)\n",
    "main()"
   ]
  },
  {
   "cell_type": "markdown",
   "metadata": {},
   "source": [
    "# # Question 7"
   ]
  },
  {
   "cell_type": "markdown",
   "metadata": {},
   "source": [
    "Write a recursive function recBinary(x,L) which implements a recursive version of binary search for item x in list L. It should return True if x is in L, and False otherwise."
   ]
  },
  {
   "cell_type": "code",
   "execution_count": null,
   "metadata": {},
   "outputs": [],
   "source": [
    "def recBinary(x,L):\n",
    "  if len(L) == 0:\n",
    "      print(\"False\")\n",
    "  elif L[0] == x:\n",
    "    print(\"True\")\n",
    "  else:\n",
    "    recBinary(x,L[1:])\n",
    "\n",
    "def main():\n",
    "  L = [1,2,3,4,5]\n",
    "  ans = recBinary(6, L)\n",
    "main()"
   ]
  }
 ],
 "metadata": {
  "kernelspec": {
   "display_name": "Python 3",
   "language": "python",
   "name": "python3"
  },
  "language_info": {
   "codemirror_mode": {
    "name": "ipython",
    "version": 3
   },
   "file_extension": ".py",
   "mimetype": "text/x-python",
   "name": "python",
   "nbconvert_exporter": "python",
   "pygments_lexer": "ipython3",
   "version": "3.6.7"
  }
 },
 "nbformat": 4,
 "nbformat_minor": 2
}
