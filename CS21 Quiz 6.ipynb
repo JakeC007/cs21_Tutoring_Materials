{
 "cells": [
  {
   "cell_type": "markdown",
   "metadata": {
    "deletable": true,
    "editable": true
   },
   "source": [
    "# CS 21 Practice Quiz 6 2019 Answer Key"
   ]
  },
  {
   "cell_type": "markdown",
   "metadata": {
    "deletable": true,
    "editable": true
   },
   "source": [
    "# # Question 1"
   ]
  },
  {
   "cell_type": "code",
   "execution_count": null,
   "metadata": {
    "collapsed": true,
    "deletable": true,
    "editable": true
   },
   "outputs": [],
   "source": [
    "for i in range(N):\n",
    "    for j in range(N):\n",
    "        print(i, j)"
   ]
  },
  {
   "cell_type": "markdown",
   "metadata": {
    "deletable": true,
    "editable": true
   },
   "source": [
    "Answer $O(n^{2})$"
   ]
  },
  {
   "cell_type": "code",
   "execution_count": null,
   "metadata": {
    "collapsed": true,
    "deletable": true,
    "editable": true
   },
   "outputs": [],
   "source": [
    "while N > 1:\n",
    "      print(N)\n",
    "      N = N/2"
   ]
  },
  {
   "cell_type": "markdown",
   "metadata": {
    "deletable": true,
    "editable": true
   },
   "source": [
    "Answer $O(log_{2}(n))$"
   ]
  },
  {
   "cell_type": "code",
   "execution_count": null,
   "metadata": {
    "collapsed": true,
    "deletable": true,
    "editable": true
   },
   "outputs": [],
   "source": [
    "for i in range(N):\n",
    "    for j in range(10):\n",
    "        print(i, j)"
   ]
  },
  {
   "cell_type": "markdown",
   "metadata": {
    "deletable": true,
    "editable": true
   },
   "source": [
    "Answer $O(n)$"
   ]
  },
  {
   "cell_type": "code",
   "execution_count": null,
   "metadata": {
    "collapsed": true,
    "deletable": true,
    "editable": true
   },
   "outputs": [],
   "source": [
    "def oneLoop(L):\n",
    "   for j in range(len(L)-1):\n",
    "      if L[j] > L[j+1]:\n",
    "         tmp = L[j+1]\n",
    "         L[j+1] = L[j]\n",
    "         L[j] = tmp"
   ]
  },
  {
   "cell_type": "markdown",
   "metadata": {
    "deletable": true,
    "editable": true
   },
   "source": [
    "Answer $O(n)$"
   ]
  },
  {
   "cell_type": "markdown",
   "metadata": {
    "deletable": true,
    "editable": true
   },
   "source": [
    "# # Question 2"
   ]
  },
  {
   "cell_type": "markdown",
   "metadata": {
    "deletable": true,
    "editable": true
   },
   "source": [
    "<p>Show how the following list would be changed after selection sort does its first 3 swaps:<br />[15, 99, 4, 30, 3, 82, 7, 42]</p>"
   ]
  },
  {
   "cell_type": "code",
   "execution_count": null,
   "metadata": {
    "collapsed": true,
    "deletable": true,
    "editable": true
   },
   "outputs": [],
   "source": [
    "ALG:\n",
    "repeat (numOfElements - 1) times\n",
    "\n",
    "  set the first unsorted element as the minimum\n",
    "\n",
    "  for each of the unsorted elements\n",
    "\n",
    "    if element < currentMinimum\n",
    "\n",
    "      set element as new minimum\n",
    "\n",
    "  swap minimum with first unsorted position"
   ]
  },
  {
   "cell_type": "markdown",
   "metadata": {
    "deletable": true,
    "editable": true
   },
   "source": [
    "<p>Step 1: [3, 99, 4, 30, 15, 82, 7, 42]</p>"
   ]
  },
  {
   "cell_type": "markdown",
   "metadata": {},
   "source": [
    "<p>Step 2: [3, 4, 99, 30, 15, 82, 7, 42]</p>"
   ]
  },
  {
   "cell_type": "markdown",
   "metadata": {},
   "source": [
    "<p>Step 3: [3, 4, 7, 30, 15, 82, 99, 42]</p>"
   ]
  },
  {
   "cell_type": "markdown",
   "metadata": {
    "deletable": true,
    "editable": true
   },
   "source": [
    "# # Question 3"
   ]
  },
  {
   "cell_type": "markdown",
   "metadata": {
    "deletable": true,
    "editable": true
   },
   "source": [
    "<p>Show how the following list would be changed after bubble sort does one iteration of the outer loop.<br /><br />[17, 4, 19, 3, 11, 8]</p>"
   ]
  },
  {
   "cell_type": "code",
   "execution_count": null,
   "metadata": {
    "collapsed": true,
    "deletable": true,
    "editable": true
   },
   "outputs": [],
   "source": [
    "ALG:\n",
    "do\n",
    "\n",
    "  swapped = false\n",
    "\n",
    "  for i = 1 to indexOfLastUnsortedElement-1\n",
    "\n",
    "    if leftElement > rightElement\n",
    "\n",
    "      swap(leftElement, rightElement)\n",
    "\n",
    "      swapped = true\n",
    "\n",
    "while swapped"
   ]
  },
  {
   "cell_type": "markdown",
   "metadata": {
    "deletable": true,
    "editable": true
   },
   "source": [
    "<p>One iteration: [4, 17, 3, 11, 8, 19]&nbsp;</p>"
   ]
  },
  {
   "cell_type": "markdown",
   "metadata": {
    "deletable": true,
    "editable": true
   },
   "source": [
    "# # Question 4"
   ]
  },
  {
   "cell_type": "markdown",
   "metadata": {
    "deletable": true,
    "editable": true
   },
   "source": [
    "<p>Which algorithm requires time directly proportional to the size of the input list?</p>\n",
    "<ul>\n",
    "<li>linear search</li>\n",
    "<li>binary search</li>\n",
    "<li>bubble sort</li>\n",
    "<li>selection sort</li>\n",
    "</ul>"
   ]
  },
  {
   "cell_type": "markdown",
   "metadata": {
    "deletable": true,
    "editable": true
   },
   "source": [
    "<p>Answer: Linear Search</p>"
   ]
  },
  {
   "cell_type": "markdown",
   "metadata": {
    "deletable": true,
    "editable": true
   },
   "source": [
    "# # Question 5"
   ]
  },
  {
   "cell_type": "markdown",
   "metadata": {
    "deletable": true,
    "editable": true
   },
   "source": [
    "Write a recursive function longestInList(L) that returns the longest string in L, a list of strings. You can assume that L has at least one string."
   ]
  },
  {
   "cell_type": "code",
   "execution_count": 89,
   "metadata": {
    "collapsed": false,
    "deletable": true,
    "editable": true
   },
   "outputs": [
    {
     "name": "stdout",
     "output_type": "stream",
     "text": [
      "gake janes\n"
     ]
    }
   ],
   "source": [
    "def longestInLst(L):\n",
    "    if len(L) == 1: # base case\n",
    "        return L[0]\n",
    "    else:\n",
    "        thisWrd = L[0]\n",
    "        otherWrd = longestInLst(L[1:])\n",
    "        if len(thisWrd) > len(otherWrd):\n",
    "            return thisWrd\n",
    "        else:\n",
    "            return otherWrd\n",
    "def main():\n",
    "    L = [\"frank\", \"doug\", \"clyaton\", \"anatole\", \"ruby\", \"gake janes\"]\n",
    "    ret = longestInLst(L)\n",
    "    print(ret)\n",
    "main()"
   ]
  },
  {
   "cell_type": "markdown",
   "metadata": {
    "deletable": true,
    "editable": true
   },
   "source": [
    "<p>Then, draw the stack as it would look at its largest (i.e, the deepest part of the recursion when it hits a base case), when the function is called on the list ['awesome', 'recursive', 'code']. pdf of solution (https://www.cs.swarthmore.edu/courses/CS21Labs/s19/quizzes/quiz6stack.pdf)</p>"
   ]
  },
  {
   "cell_type": "markdown",
   "metadata": {
    "deletable": true,
    "editable": true
   },
   "source": [
    "# # Question 6"
   ]
  },
  {
   "cell_type": "markdown",
   "metadata": {
    "deletable": true,
    "editable": true
   },
   "source": [
    "<p>Write a recursive function countdown(n) which simulates a countdown to a rocket launch. If you call blastoff(4) you should see the following output:</p>"
   ]
  },
  {
   "cell_type": "code",
   "execution_count": 52,
   "metadata": {
    "collapsed": false,
    "deletable": true,
    "editable": true
   },
   "outputs": [
    {
     "name": "stdout",
     "output_type": "stream",
     "text": [
      "4...\n",
      "3...\n",
      "2...\n",
      "1...\n",
      "Blastoff!\n"
     ]
    }
   ],
   "source": [
    "def blastOff(n):\n",
    "    if n == 0:\n",
    "        print(\"Blastoff!\")\n",
    "    else:\n",
    "        print(\"%d...\" %(n))\n",
    "        return blastOff(n-1)\n",
    "\n",
    "def main():\n",
    "  blastOff(4)\n",
    "main()"
   ]
  },
  {
   "cell_type": "markdown",
   "metadata": {
    "deletable": true,
    "editable": true
   },
   "source": [
    "# # Question 7"
   ]
  },
  {
   "cell_type": "markdown",
   "metadata": {},
   "source": [
    "<p> Write a recursive function recBinary(x,L) which implements a recursive version of binary search for item x in list L. It should return True if x is in L, and False otherwise.</p>"
   ]
  },
  {
   "cell_type": "code",
   "execution_count": 87,
   "metadata": {
    "collapsed": false
   },
   "outputs": [
    {
     "name": "stdout",
     "output_type": "stream",
     "text": [
      "True\n"
     ]
    }
   ],
   "source": [
    "def recBinary(x,L):\n",
    "  if len(L) == 0: #base case, when the answer isn't found\n",
    "      return \"False\"\n",
    "  else:\n",
    "    #compute high, low, mid\n",
    "    low = 0\n",
    "    high = len(L)-1\n",
    "    mid = int((high+low)/2)\n",
    "    #if the answer is found, else recurse on desired side of the list\n",
    "    if L[mid] == x: #base case when the answer is found\n",
    "      return \"True\"\n",
    "    elif L[mid] > x:\n",
    "      return recBinary(x,L[0:mid]) #remember that list slicing isn't inclusive on stop\n",
    "    else:\n",
    "      return recBinary(x,L[mid+1:])\n",
    "\n",
    "\n",
    "def main():\n",
    "    L = [1,2,3,4,5]\n",
    "    ans = recBinary(4, L)\n",
    "    print(ans)\n",
    "main()"
   ]
  }
 ],
 "metadata": {
  "kernelspec": {
   "display_name": "Python 3",
   "language": "python",
   "name": "python3"
  },
  "language_info": {
   "codemirror_mode": {
    "name": "ipython",
    "version": 3
   },
   "file_extension": ".py",
   "mimetype": "text/x-python",
   "name": "python",
   "nbconvert_exporter": "python",
   "pygments_lexer": "ipython3",
   "version": "3.5.2"
  }
 },
 "nbformat": 4,
 "nbformat_minor": 2
}
