{
 "cells": [
  {
   "cell_type": "markdown",
   "metadata": {
    "deletable": true,
    "editable": true
   },
   "source": [
    "# CS 21 Spring 2019 Final Review"
   ]
  },
  {
   "cell_type": "markdown",
   "metadata": {
    "deletable": true,
    "editable": true
   },
   "source": [
    "# # Question 1"
   ]
  },
  {
   "cell_type": "markdown",
   "metadata": {
    "collapsed": true,
    "deletable": true,
    "editable": true
   },
   "source": [
    "<p> Write a complete program that plays a guessing game with numbers. The goal is for the user to guess a randomly selected number between 1 and 100 as quickly as possible. The program will inform the user whether the hidden number is higher or lower than the current guess. You must break the problem up into a main() function and at least one additional function.</p>"
   ]
  },
  {
   "cell_type": "code",
   "execution_count": 1,
   "metadata": {
    "collapsed": false,
    "deletable": true,
    "editable": true
   },
   "outputs": [
    {
     "name": "stdout",
     "output_type": "stream",
     "text": [
      "What's your guess? pony\n",
      "Invalid, try again: -1\n",
      "Invalid, try again: cheto\n",
      "Invalid, try again: 101\n",
      "Invalid, try again: 300\n",
      "Invalid, try again: 33\n",
      "The number is higher than 33\n",
      "What's your guess? 50\n",
      "The number is higher than 50\n",
      "What's your guess? 74\n",
      "The number is higher than 74\n",
      "What's your guess? 90\n",
      "The number is lower than 90\n",
      "What's your guess? 80\n",
      "The number is lower than 80\n",
      "What's your guess? 75\n",
      "Correct!\n",
      "You guessed the answer in 11 tries!\n"
     ]
    }
   ],
   "source": [
    "import random\n",
    "\n",
    "def main():\n",
    "    accum = 0\n",
    "    computer = random.choice(range(1, 101)) #remember the end is an open interval\n",
    "    guessed = False\n",
    "\n",
    "    while guessed == False:\n",
    "        user_s = input(\"What's your guess? \")\n",
    "        accum += 1\n",
    "        if check(user_s) == True:\n",
    "            guessed = eval(int(user_s), computer)\n",
    "        else:\n",
    "            while True:\n",
    "                user_s = input(\"Invalid, try again: \")\n",
    "                accum += 1\n",
    "                if check(user_s) == True:\n",
    "                    guessed = eval(int(user_s), computer)\n",
    "                    break \n",
    "            \n",
    "    print(\"You guessed the answer in %d tries!\" %(accum))\n",
    "                \n",
    "                \n",
    "def eval(number, computer):\n",
    "    \"\"\" Evaluates the number to see if it is correct or not. \"\"\"\n",
    "    if number == computer:\n",
    "        print(\"Correct!\")\n",
    "        return True\n",
    "    elif number < computer:\n",
    "        print(\"The number is higher than %d\" %(number))\n",
    "        return False\n",
    "    else:\n",
    "        print(\"The number is lower than %d\" %(number))\n",
    "        return False\n",
    "\n",
    "def check(user_s):\n",
    "    \"\"\" User input validation. \"\"\"\n",
    "    if user_s.isdigit() == True:\n",
    "        user = int(user_s)\n",
    "        if  0 <= user <= 100:\n",
    "            return True\n",
    "    return False\n",
    "    \n",
    "    \n",
    "\n",
    "main()\n"
   ]
  },
  {
   "cell_type": "markdown",
   "metadata": {
    "deletable": true,
    "editable": true
   },
   "source": [
    "# # Question 2"
   ]
  },
  {
   "cell_type": "markdown",
   "metadata": {
    "deletable": true,
    "editable": true
   },
   "source": [
    "<p> Student Class should include: id, lastname, credits, course load.</p>"
   ]
  },
  {
   "cell_type": "code",
   "execution_count": 2,
   "metadata": {
    "collapsed": false,
    "deletable": true,
    "editable": true
   },
   "outputs": [
    {
     "name": "stdout",
     "output_type": "stream",
     "text": [
      "ID: 1 \n",
      " Name: Janes \n",
      " Course Load: 2 \n",
      " Earned Credits: 1\n",
      "This student's email is Janes1@swarthmore.edu\n",
      "ID: 12 \n",
      " Name: cheto \n",
      " Course Load: 3 \n",
      " Earned Credits: 3\n",
      "This student's email is cheto12@swarthmore.edu\n"
     ]
    }
   ],
   "source": [
    "class Student(object):\n",
    "    \"\"\" A class to represent student course selections. \"\"\"\n",
    "\n",
    "    def __init__(self, ids, name):\n",
    "        \"\"\" Make a new student given their name and year. \"\"\"\n",
    "        self.id = ids\n",
    "        self.lName = name\n",
    "        self.credits = 0\n",
    "        self.courseLoad = 0\n",
    "        \n",
    "    def registerCurrent(self, number):\n",
    "        \"\"\" Sets the current course load. \"\"\"\n",
    "        if number > 0 and self.courseLoad <= 4:\n",
    "            self.courseLoad = number\n",
    "    \n",
    "    def withdraw(self):\n",
    "        \"\"\" Decreases course load by 1. \"\"\"\n",
    "        if self.courseLoad > 0:\n",
    "            self.courseLoad -= 1\n",
    "    \n",
    "    def passedCourse(self):\n",
    "        \"\"\" Removes one course from the current course load and \n",
    "        adds to the student's overall course-credits. \"\"\"\n",
    "        if self.courseLoad > 0:\n",
    "            self.courseLoad -= 1\n",
    "            self.credits += 1\n",
    "    \n",
    "    def createEmail(self):\n",
    "        \"\"\" Creates an email for the student. \"\"\"\n",
    "        email = \"\" # accounting for pyhton not being strongly typed\n",
    "        email = self.lName + str(self.id) +\"@swarthmore.edu\"\n",
    "        return email\n",
    "\n",
    "    def __str__(self):\n",
    "        \"\"\" Return a string representing the student. \"\"\"\n",
    "        s = \"ID: %d \\n Name: %s \\n Course Load: %d \\n Earned Credits: %d\" %(self.id, self.lName, \\\n",
    "                                                                            self.courseLoad, self.credits)\n",
    "        return s\n",
    "\n",
    "def main():\n",
    "    gake = Student(1, \"Janes\")\n",
    "    gake.registerCurrent(4)\n",
    "    gake.withdraw()\n",
    "    gake.passedCourse()\n",
    "    email = gake.createEmail()\n",
    "    print(gake)\n",
    "    print(\"This student's email is %s\" %(email))\n",
    "    \n",
    "    tasty = Student(12, \"cheto\")\n",
    "    tasty.registerCurrent(4)\n",
    "    tasty.withdraw()\n",
    "    tasty.passedCourse()\n",
    "    tasty.passedCourse()\n",
    "    tasty.passedCourse()\n",
    "    tasty.registerCurrent(4)\n",
    "    tasty.withdraw()   \n",
    "    email = tasty.createEmail()\n",
    "    print(tasty)\n",
    "    print(\"This student's email is %s\" %(email))\n",
    "    \n",
    "\n",
    "if __name__ == '__main__':\n",
    "    main()\n",
    "    "
   ]
  },
  {
   "cell_type": "markdown",
   "metadata": {
    "deletable": true,
    "editable": true
   },
   "source": [
    "# # Question 3"
   ]
  },
  {
   "cell_type": "markdown",
   "metadata": {
    "deletable": true,
    "editable": true
   },
   "source": [
    "<p>Write recursive and iterative versions of a function that, given a string and a character, returns a new string with the character before and after each letter in the string.</p>"
   ]
  },
  {
   "cell_type": "code",
   "execution_count": 3,
   "metadata": {
    "collapsed": false,
    "deletable": true,
    "editable": true
   },
   "outputs": [
    {
     "name": "stdout",
     "output_type": "stream",
     "text": [
      "Please input the word: hello\n",
      "Please input the char: *\n",
      "recursive answer: *h*e*l*l*o* \n",
      " iterative answer: *h*e*l*l*o*\n"
     ]
    }
   ],
   "source": [
    "def main():\n",
    "    word = input(\"Please input the word: \")\n",
    "    char = input(\"Please input the char: \")\n",
    "    recAns = recursive(word, char)\n",
    "    iterAns = iterative(word, char)\n",
    "    print(\"recursive answer: %s \\n iterative answer: %s\" %(recAns, iterAns))\n",
    "\n",
    "\n",
    "def recursive(word, char):\n",
    "  if len(word) == 0:\n",
    "    return word\n",
    "  elif len(word) == 1:\n",
    "    return char+word+char\n",
    "  else:\n",
    "    return char+word[0] + recursive(word[1:], char)       \n",
    "\n",
    "def iterative(word, char):\n",
    "    if len(word) == 0:\n",
    "        return \"\" \n",
    "    \n",
    "    retStr = char\n",
    "    for i in word:\n",
    "        retStr += i + char\n",
    "    return retStr    \n",
    "   \n",
    "    \n",
    "if __name__ == '__main__':\n",
    "    main()\n"
   ]
  },
  {
   "cell_type": "markdown",
   "metadata": {
    "deletable": true,
    "editable": true
   },
   "source": [
    "<p> Jake's Note: Coming up with the recursive answer is a bit too hard for the CS21 Final. To quote one of the 21 professors \"<em>If I were giving this on an exam, I would probably make the output just h*e*l*l*o*, and skip the first char.</em>\" Here is what you would be excpetced to write."
   ]
  },
  {
   "cell_type": "code",
   "execution_count": null,
   "metadata": {
    "collapsed": true,
    "deletable": true,
    "editable": true
   },
   "outputs": [],
   "source": [
    "def recursive(word, char): #only spits out h*e*l*l*o when given hello and *\n",
    "    if len(word) == 0:\n",
    "        return \"\" \n",
    "    else:\n",
    "        s = recursive(word[1:], char)\n",
    "        ret = char+word[0]+s\n",
    "        return ret"
   ]
  },
  {
   "cell_type": "markdown",
   "metadata": {
    "deletable": true,
    "editable": true
   },
   "source": [
    "# # Question 4"
   ]
  },
  {
   "cell_type": "markdown",
   "metadata": {
    "deletable": true,
    "editable": true
   },
   "source": [
    "<p>Write a function to take a word-count list and return the word that has the highest count.</p>\n"
   ]
  },
  {
   "cell_type": "code",
   "execution_count": 3,
   "metadata": {
    "collapsed": false,
    "deletable": true,
    "editable": true
   },
   "outputs": [
    {
     "name": "stdout",
     "output_type": "stream",
     "text": [
      "ruby\n"
     ]
    }
   ],
   "source": [
    "def main():\n",
    "    wc = [['frank', 99], ['ruby', 300], ['doug', 37], ['clayton', 297], ['owo', 100], ['anatole', 99]]\n",
    "    word = highestCount(wc)\n",
    "    print(word)\n",
    "    \n",
    "def highestCount(lst):\n",
    "    \"\"\"returns the highest value in a list of lists\"\"\"\n",
    "    maxVal = 0\n",
    "    word = 0\n",
    "    for subLst in lst: #remember that lists are iterable objects\n",
    "        if subLst[1] > maxVal:\n",
    "            maxVal = subLst[1]\n",
    "            word = subLst[0]\n",
    "    return word\n",
    "\n",
    "if __name__ == '__main__':\n",
    "    main()\n",
    "    "
   ]
  }
 ],
 "metadata": {
  "kernelspec": {
   "display_name": "Python 3",
   "language": "python",
   "name": "python3"
  },
  "language_info": {
   "codemirror_mode": {
    "name": "ipython",
    "version": 3
   },
   "file_extension": ".py",
   "mimetype": "text/x-python",
   "name": "python",
   "nbconvert_exporter": "python",
   "pygments_lexer": "ipython3",
   "version": "3.5.2"
  }
 },
 "nbformat": 4,
 "nbformat_minor": 2
}
