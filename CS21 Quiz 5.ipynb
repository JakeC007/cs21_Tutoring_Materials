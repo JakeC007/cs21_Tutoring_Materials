{
 "cells": [
  {
   "cell_type": "markdown",
   "metadata": {},
   "source": [
    "# CS 21 Quiz 5 2019 Answer Key"
   ]
  },
  {
   "cell_type": "markdown",
   "metadata": {},
   "source": [
    "## Question 1"
   ]
  },
  {
   "cell_type": "code",
   "execution_count": null,
   "metadata": {},
   "outputs": [],
   "source": [
    "infile = open(\"infile.txt\", \"r\")\n",
    "    acronym = \"\"\n",
    "    for line in infile:\n",
    "        acronym += line[0]\n",
    "    print(acronym)"
   ]
  },
  {
   "cell_type": "markdown",
   "metadata": {},
   "source": [
    "## Question 2"
   ]
  },
  {
   "cell_type": "markdown",
   "metadata": {},
   "source": [
    "<style type=\"text/css\">\n",
    ".tg  {border-collapse:collapse;border-spacing:0;}\n",
    ".tg td{font-family:Arial, sans-serif;font-size:14px;padding:10px 5px;border-style:solid;border-width:1px;overflow:hidden;word-break:normal;border-color:black;}\n",
    ".tg th{font-family:Arial, sans-serif;font-size:14px;font-weight:normal;padding:10px 5px;border-style:solid;border-width:1px;overflow:hidden;word-break:normal;border-color:black;}\n",
    ".tg .tg-0pky{border-color:inherit;text-align:left;vertical-align:top}\n",
    "</style>\n",
    "<table class=\"tg\" style=\"undefined;table-layout: fixed; width: 383px\">\n",
    "<colgroup>\n",
    "<col style=\"width: 157px\">\n",
    "<col style=\"width: 126px\">\n",
    "<col style=\"width: 100px\">\n",
    "</colgroup>\n",
    "  <tr>\n",
    "    <th class=\"tg-0pky\"><br>  Operation<br>  </th>\n",
    "    <th class=\"tg-0pky\"><br>&nbsp;&nbsp;Value<br>&nbsp;&nbsp;</th>\n",
    "    <th class=\"tg-0pky\"><br>&nbsp;&nbsp;Type<br>&nbsp;&nbsp;</th>\n",
    "  </tr>\n",
    "  <tr>\n",
    "    <td class=\"tg-0pky\"><br>&nbsp;&nbsp;Len(L)<br>&nbsp;&nbsp;</td>\n",
    "    <td class=\"tg-0pky\"><br>&nbsp;&nbsp;4<br>&nbsp;&nbsp;</td>\n",
    "    <td class=\"tg-0pky\"><br>&nbsp;&nbsp;List<br>&nbsp;&nbsp;</td>\n",
    "  </tr>\n",
    "  <tr>\n",
    "    <td class=\"tg-0pky\"><br>&nbsp;&nbsp;L[1]<br>&nbsp;&nbsp;</td>\n",
    "    <td class=\"tg-0pky\"><br>  [\"boa\", \"reptile\"]<br>  </td>\n",
    "    <td class=\"tg-0pky\"><br>&nbsp;&nbsp;List<br>&nbsp;&nbsp;</td>\n",
    "  </tr>\n",
    "  <tr>\n",
    "    <td class=\"tg-0pky\"><br>&nbsp;&nbsp;L[1][0]<br>&nbsp;&nbsp;</td>\n",
    "    <td class=\"tg-0pky\"><br>&nbsp;&nbsp;“boa”<br>&nbsp;&nbsp;</td>\n",
    "    <td class=\"tg-0pky\"><br>&nbsp;&nbsp;String<br>&nbsp;&nbsp;</td>\n",
    "  </tr>\n",
    "  <tr>\n",
    "    <td class=\"tg-0pky\"><br>&nbsp;&nbsp;L[0][1] == L[3][1]<br>&nbsp;&nbsp;</td>\n",
    "    <td class=\"tg-0pky\"><br>&nbsp;&nbsp;True<br>&nbsp;&nbsp;</td>\n",
    "    <td class=\"tg-0pky\"><br>&nbsp;&nbsp;Bool<br>&nbsp;&nbsp;</td>\n",
    "  </tr>\n",
    "  <tr>\n",
    "    <td class=\"tg-0pky\"><br>  L[0][1] + \"-\" + L[0][0]<br>  </td>\n",
    "    <td class=\"tg-0pky\"><br>&nbsp;&nbsp;“mammal – cat”<br>&nbsp;&nbsp;</td>\n",
    "    <td class=\"tg-0pky\"><br>&nbsp;&nbsp;String<br>&nbsp;&nbsp;</td>\n",
    "  </tr>\n",
    "</table>"
   ]
  },
  {
   "cell_type": "markdown",
   "metadata": {},
   "source": [
    "## Question 3"
   ]
  },
  {
   "cell_type": "code",
   "execution_count": null,
   "metadata": {},
   "outputs": [],
   "source": [
    "for i in range(2):\n",
    "    for j in range (3):\n",
    "        print(\"i:%d j:%d\" % (i,j))"
   ]
  },
  {
   "cell_type": "markdown",
   "metadata": {},
   "source": [
    "Output:\n",
    "<br>\n",
    "i:0 j:0\n",
    "<br>\n",
    "i:0 j:1\n",
    "<br>\n",
    "i:0 j:2\n",
    "<br>\n",
    "i:1 j:0\n",
    "<br>\n",
    "i:1 j:1\n",
    "<br>\n",
    "i:1 j:2\n"
   ]
  },
  {
   "cell_type": "markdown",
   "metadata": {},
   "source": [
    "## Question 4"
   ]
  },
  {
   "cell_type": "markdown",
   "metadata": {},
   "source": [
    "<ul>\n",
    "<li style=\"margin-left: 7.5pt; text-indent: -.25in; line-height: 18.0pt; tab-stops: list .5in;\"><span style=\"font-size: 13.5pt; font-family: 'Georgia',serif; color: #444444;\">&nbsp; &nbsp; Linear search requires a number of steps proportional to the size of the list being searched (T/F)</span></li>\n",
    "</ul>\n",
    "<ul>\n",
    "<ul>\n",
    "<li style=\"color: #444444; line-height: 18.0pt; tab-stops: list 1.0in;\"><span style=\"font-size: 13.5pt; font-family: 'Georgia',serif;\">Answer: T</span></li>\n",
    "</ul>\n",
    "</ul>\n",
    "<ul>\n",
    "<li style=\"margin-left: 7.5pt; text-indent: -.25in; line-height: 18.0pt; tab-stops: list .5in;\"><span style=\"font-size: 13.5pt; font-family: 'Georgia',serif; color: #444444;\">&nbsp; &nbsp; The python <strong>in&nbsp;</strong>operator performs a binary search (T/F)</span></li>\n",
    "</ul>\n",
    "<ul>\n",
    "<ul>\n",
    "<li style=\"color: #444444; line-height: 18.0pt; tab-stops: list 1.0in;\"><span style=\"font-size: 13.5pt; font-family: 'Georgia',serif;\">Answer: F&mdash;Lists cannot be assumed as sorted. </span></li>\n",
    "</ul>\n",
    "</ul>\n",
    "<ul>\n",
    "<li style=\"margin-left: 7.5pt; text-indent: -.25in; line-height: 18.0pt; tab-stops: list .5in;\"><span style=\"font-size: 13.5pt; font-family: 'Georgia',serif; color: #444444;\">&nbsp; &nbsp; Binary search is an <em>N</em><sup>2</sup>algorithm (T/F)</span></li>\n",
    "</ul>\n",
    "<ul>\n",
    "<ul>\n",
    "<li style=\"color: #444444; line-height: 18.0pt; tab-stops: list 1.0in;\"><span style=\"font-size: 13.5pt; font-family: 'Georgia',serif;\">Answer: F&mdash;Its log<sub>2</sub>n</span></li>\n",
    "</ul>\n",
    "</ul>\n",
    "<ul>\n",
    "<li style=\"margin-left: 7.5pt; text-indent: -.25in; line-height: 18.0pt; tab-stops: list .5in;\"><span style=\"font-size: 13.5pt; font-family: 'Georgia',serif; color: #444444;\">&nbsp; &nbsp; The number of times N can be divided by 2 (before reaching 1) is log<sub>2</sub><em>N</em>(T/F)</span></li>\n",
    "</ul>\n",
    "<ul>\n",
    "<ul>\n",
    "<li style=\"color: #444444; line-height: 18.0pt; tab-stops: list 1.0in;\"><span style=\"font-size: 13.5pt; font-family: 'Georgia',serif;\">True</span></li>\n",
    "</ul>\n",
    "</ul>"
   ]
  },
  {
   "cell_type": "markdown",
   "metadata": {},
   "source": [
    "## Question 5"
   ]
  },
  {
   "cell_type": "markdown",
   "metadata": {},
   "source": [
    "<p style=\"margin-bottom: .25in; margin-left: -10.5pt; line-height: 18.0pt;\"><span style=\"font-size: 12.0pt; font-family: 'Georgia',serif; color: #444444;\">&nbsp; &nbsp; &nbsp;Answer: 20 steps</span></p>"
   ]
  },
  {
   "cell_type": "markdown",
   "metadata": {},
   "source": [
    "## Question 6"
   ]
  },
  {
   "cell_type": "markdown",
   "metadata": {},
   "source": [
    "<p style=\"margin-bottom: .25in; margin-left: -10.5pt; line-height: 18.0pt;\"><span style=\"font-size: 12.0pt; font-family: 'Georgia',serif; color: #444444;\">&nbsp; &nbsp; &nbsp;Answer: 1 million steps</span></p>"
   ]
  },
  {
   "cell_type": "markdown",
   "metadata": {},
   "source": [
    "## Question 7"
   ]
  },
  {
   "cell_type": "markdown",
   "metadata": {},
   "source": [
    "<p style=\"margin-bottom: .25in; margin-left: -10.5pt; line-height: 18.0pt;\"><span style=\"font-size: 12.0pt; font-family: 'Georgia',serif; color: #444444;\">&nbsp; &nbsp; &nbsp;Answer: Binary search requires a sorted list. Linear search doesn’t</span></p>"
   ]
  },
  {
   "cell_type": "markdown",
   "metadata": {},
   "source": [
    "## Question 8"
   ]
  },
  {
   "cell_type": "markdown",
   "metadata": {},
   "source": [
    "<pre>\n",
    "x = 67\n",
    "L = [10, 12, 14, 21, 37, 44, 45, 46, 58, 67, 99]  \n",
    "      0   1   2   3   4   5   6   7   8   9  10  \n",
    "</pre>"
   ]
  },
  {
   "cell_type": "markdown",
   "metadata": {},
   "source": [
    "<style type=\"text/css\">\n",
    ".tg  {border-collapse:collapse;border-spacing:0;}\n",
    ".tg td{font-family:Arial, sans-serif;font-size:14px;padding:10px 5px;border-style:solid;border-width:1px;overflow:hidden;word-break:normal;border-color:black;}\n",
    ".tg th{font-family:Arial, sans-serif;font-size:14px;font-weight:normal;padding:10px 5px;border-style:solid;border-width:1px;overflow:hidden;word-break:normal;border-color:black;}\n",
    ".tg .tg-baqh{text-align:center;vertical-align:top}\n",
    ".tg .tg-c3ow{border-color:inherit;text-align:center;vertical-align:top}\n",
    "</style>\n",
    "<table class=\"tg\" style=\"undefined;table-layout: fixed; width: 314px\">\n",
    "<colgroup>\n",
    "<col style=\"width: 90px\">\n",
    "<col style=\"width: 90px\">\n",
    "<col style=\"width: 90px\">\n",
    "<col style=\"width: 90px\">\n",
    "</colgroup>\n",
    "  <tr>\n",
    "    <th class=\"tg-baqh\">Low</th>\n",
    "    <th class=\"tg-baqh\">High</th>\n",
    "    <th class=\"tg-baqh\">Mid</th>\n",
    "    <th class=\"tg-baqh\">L[Mid]</th>\n",
    "  </tr>\n",
    "  <tr>\n",
    "    <td class=\"tg-c3ow\"><br>&nbsp;&nbsp;0<br>&nbsp;&nbsp;</td>\n",
    "    <td class=\"tg-c3ow\"><br>&nbsp;&nbsp;10<br>&nbsp;&nbsp;</td>\n",
    "    <td class=\"tg-c3ow\"><br>&nbsp;&nbsp;5<br>&nbsp;&nbsp;</td>\n",
    "    <td class=\"tg-baqh\"><br>  44<br>  </td>\n",
    "  </tr>\n",
    "  <tr>\n",
    "    <td class=\"tg-c3ow\"><br>&nbsp;&nbsp;6<br>&nbsp;&nbsp;</td>\n",
    "    <td class=\"tg-c3ow\"><br>&nbsp;&nbsp;10<br>&nbsp;&nbsp;</td>\n",
    "    <td class=\"tg-c3ow\"><br>&nbsp;&nbsp;8<br>&nbsp;&nbsp;</td>\n",
    "    <td class=\"tg-baqh\"><br>&nbsp;&nbsp;58<br>&nbsp;&nbsp;</td>\n",
    "  </tr>\n",
    "  <tr>\n",
    "    <td class=\"tg-c3ow\"><br>&nbsp;&nbsp;9<br>&nbsp;&nbsp;</td>\n",
    "    <td class=\"tg-c3ow\"><br>&nbsp;&nbsp;10<br>&nbsp;&nbsp;</td>\n",
    "    <td class=\"tg-c3ow\"><br>&nbsp;&nbsp;9<br>&nbsp;&nbsp;</td>\n",
    "    <td class=\"tg-baqh\"><br>&nbsp;&nbsp;67<br>&nbsp;&nbsp;</td>\n",
    "  </tr>\n",
    "</table>\n",
    "\n",
    "Return: 9\n",
    "\n",
    "   * Jake's Note: Remember to roundown for mid because it is integer division!"
   ]
  },
  {
   "cell_type": "markdown",
   "metadata": {},
   "source": [
    "## Question 9"
   ]
  },
  {
   "cell_type": "markdown",
   "metadata": {},
   "source": [
    "<pre>\n",
    "y = 4\n",
    "L = [10, 12, 14, 21, 37, 44, 45, 46, 58, 67, 99]  \n",
    "     0   1   2   3   4   5   6   7   8   9  10   \n",
    "</pre>"
   ]
  },
  {
   "cell_type": "markdown",
   "metadata": {},
   "source": [
    "<style type=\"text/css\">\n",
    ".tg  {border-collapse:collapse;border-spacing:0;}\n",
    ".tg td{font-family:Arial, sans-serif;font-size:14px;padding:10px 5px;border-style:solid;border-width:1px;overflow:hidden;word-break:normal;border-color:black;}\n",
    ".tg th{font-family:Arial, sans-serif;font-size:14px;font-weight:normal;padding:10px 5px;border-style:solid;border-width:1px;overflow:hidden;word-break:normal;border-color:black;}\n",
    ".tg .tg-baqh{text-align:center;vertical-align:top}\n",
    ".tg .tg-c3ow{border-color:inherit;text-align:center;vertical-align:top}\n",
    "</style>\n",
    "<table class=\"tg\" style=\"undefined;table-layout: fixed; width: 316px\">\n",
    "<colgroup>\n",
    "<col style=\"width: 90px\">\n",
    "<col style=\"width: 90px\">\n",
    "<col style=\"width: 90px\">\n",
    "<col style=\"width: 90px\">\n",
    "</colgroup>\n",
    "  <tr>\n",
    "    <th class=\"tg-baqh\">Low</th>\n",
    "    <th class=\"tg-baqh\">High</th>\n",
    "    <th class=\"tg-baqh\">Mid</th>\n",
    "    <th class=\"tg-baqh\">L[Mid]</th>\n",
    "  </tr>\n",
    "  <tr>\n",
    "    <td class=\"tg-c3ow\"><br>&nbsp;&nbsp;0<br>&nbsp;&nbsp;</td>\n",
    "    <td class=\"tg-c3ow\"><br>&nbsp;&nbsp;10<br>&nbsp;&nbsp;</td>\n",
    "    <td class=\"tg-c3ow\"><br>&nbsp;&nbsp;5<br>&nbsp;&nbsp;</td>\n",
    "    <td class=\"tg-baqh\"><br>&nbsp;&nbsp;44<br>&nbsp;&nbsp;</td>\n",
    "  </tr>\n",
    "  <tr>\n",
    "    <td class=\"tg-c3ow\"><br>&nbsp;&nbsp;0<br>&nbsp;&nbsp;</td>\n",
    "    <td class=\"tg-c3ow\"><br>&nbsp;&nbsp;4<br>&nbsp;&nbsp;</td>\n",
    "    <td class=\"tg-c3ow\"><br>&nbsp;&nbsp;2<br>&nbsp;&nbsp;</td>\n",
    "    <td class=\"tg-baqh\"><br>&nbsp;&nbsp;14<br>&nbsp;&nbsp;</td>\n",
    "  </tr>\n",
    "  <tr>\n",
    "    <td class=\"tg-c3ow\"><br>&nbsp;&nbsp;0<br>&nbsp;&nbsp;</td>\n",
    "    <td class=\"tg-c3ow\"><br>&nbsp;&nbsp;1<br>&nbsp;&nbsp;</td>\n",
    "    <td class=\"tg-c3ow\"><br>&nbsp;&nbsp;1<br>&nbsp;&nbsp;</td>\n",
    "    <td class=\"tg-baqh\"><br>&nbsp;&nbsp;12<br>&nbsp;&nbsp;</td>\n",
    "  </tr>\n",
    "  <tr>\n",
    "    <td class=\"tg-baqh\"><br>&nbsp;&nbsp;0<br>&nbsp;&nbsp;</td>\n",
    "    <td class=\"tg-baqh\"><br>&nbsp;&nbsp;0<br>&nbsp;&nbsp;</td>\n",
    "    <td class=\"tg-baqh\"><br>&nbsp;&nbsp;0<br>&nbsp;&nbsp;</td>\n",
    "    <td class=\"tg-baqh\"><br>&nbsp;&nbsp;10<br>&nbsp;&nbsp;</td>\n",
    "  </tr>\n",
    "  <tr>\n",
    "    <td class=\"tg-baqh\"><br>&nbsp;&nbsp;0<br>&nbsp;&nbsp;</td>\n",
    "    <td class=\"tg-baqh\"><br>&nbsp;&nbsp;---<br>&nbsp;&nbsp;</td>\n",
    "    <td class=\"tg-baqh\"><br>&nbsp;&nbsp;-1<br>&nbsp;&nbsp;</td>\n",
    "    <td class=\"tg-baqh\"><br>&nbsp;&nbsp;---<br>&nbsp;&nbsp;</td>\n",
    "  </tr>\n",
    "</table>\n",
    "\n",
    "Return: -1\n",
    "* Jake's Note: Notice that high is now smaller than low. Thus, the search exits. "
   ]
  },
  {
   "cell_type": "markdown",
   "metadata": {},
   "source": [
    "## Question 10"
   ]
  },
  {
   "cell_type": "code",
   "execution_count": null,
   "metadata": {},
   "outputs": [],
   "source": [
    "def indexOfSmallest(ls):\n",
    "  if len(ls) == 0:\n",
    "    return -1\n",
    "  minVal = ls[0]\n",
    "  minLoc = None\n",
    "  for i in range(len(ls)):\n",
    "    if ls[i] < minVal:\n",
    "      minVal = ls[i]\n",
    "      minLoc = i \n",
    "  return minLoc\n",
    "\n",
    "def main():\n",
    "  ls = [3,4,-7,8,9,-2,6,8]\n",
    "  print(indexOfSmallest(ls))\n",
    "main()"
   ]
  },
  {
   "cell_type": "markdown",
   "metadata": {},
   "source": [
    "## Question 11"
   ]
  },
  {
   "cell_type": "code",
   "execution_count": null,
   "metadata": {},
   "outputs": [],
   "source": [
    "for i in range(N):\n",
    "    for j in range(N):\n",
    "        print(i, j)"
   ]
  },
  {
   "cell_type": "markdown",
   "metadata": {},
   "source": [
    "<p><span style=\"font-size: 12.0pt; font-family: 'Georgia',serif; color: #444444;\">Answer: O($n^{2}$) </span></p>"
   ]
  },
  {
   "cell_type": "code",
   "execution_count": null,
   "metadata": {},
   "outputs": [],
   "source": [
    "while N > 1:\n",
    "    print(N)\n",
    "    N = N/2"
   ]
  },
  {
   "cell_type": "markdown",
   "metadata": {},
   "source": [
    "<p><span style=\"font-size: 12.0pt; font-family: 'Georgia',serif; color: #444444;\">Answer: O($log_{2}n$) </span></p>"
   ]
  },
  {
   "cell_type": "code",
   "execution_count": null,
   "metadata": {},
   "outputs": [],
   "source": [
    "for i in range(N):\n",
    "    for j in range(10):\n",
    "        print(i*j)"
   ]
  },
  {
   "cell_type": "markdown",
   "metadata": {},
   "source": [
    "<p><span style=\"font-size: 12.0pt; font-family: 'Georgia',serif; color: #444444;\">Answer: O($n$) </span></p>"
   ]
  },
  {
   "cell_type": "markdown",
   "metadata": {},
   "source": [
    "## Question 12"
   ]
  },
  {
   "cell_type": "markdown",
   "metadata": {},
   "source": [
    "<p><span style=\"font-size: 12.0pt; font-family: 'Georgia',serif; color: #444444;\">Just linear search </span></p>"
   ]
  }
 ],
 "metadata": {
  "kernelspec": {
   "display_name": "Python 3",
   "language": "python",
   "name": "python3"
  },
  "language_info": {
   "codemirror_mode": {
    "name": "ipython",
    "version": 3
   },
   "file_extension": ".py",
   "mimetype": "text/x-python",
   "name": "python",
   "nbconvert_exporter": "python",
   "pygments_lexer": "ipython3",
   "version": "3.6.7"
  }
 },
 "nbformat": 4,
 "nbformat_minor": 2
}
